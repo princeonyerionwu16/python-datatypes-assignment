{
 "cells": [
  {
   "cell_type": "markdown",
   "id": "13331ed5-5f7a-4bb1-8e36-6dcc3ffea1b1",
   "metadata": {},
   "source": [
    "ONYERINWU PRINCE\n",
    "23/2121"
   ]
  },
  {
   "cell_type": "markdown",
   "id": "16297e03-eeae-4c8b-91a6-a7526e6d5029",
   "metadata": {},
   "source": [
    "# Assignment: Data Types and Data Structures in Python"
   ]
  },
  {
   "cell_type": "markdown",
   "id": "9582ba43-9376-45fc-8e40-f76722650476",
   "metadata": {},
   "source": [
    "## 1. Data Types Examples"
   ]
  },
  {
   "cell_type": "code",
   "execution_count": 4,
   "id": "b2ee3a43-4651-4a38-8d67-e22813ce620f",
   "metadata": {},
   "outputs": [
    {
     "name": "stdout",
     "output_type": "stream",
     "text": [
      "Integer: 10\n",
      "Float: 3.14\n",
      "Complex: (2+3j)\n",
      "String: Hello, Jupyter!\n",
      "Boolean: True\n"
     ]
    }
   ],
   "source": [
    "# 1. Data Types Examples\n",
    "\n",
    "# Integer\n",
    "my_int = 10\n",
    "print(\"Integer:\", my_int)\n",
    "\n",
    "# Float\n",
    "my_float = 3.14\n",
    "print(\"Float:\", my_float)\n",
    "\n",
    "# Complex\n",
    "my_complex = 2 + 3j\n",
    "print(\"Complex:\", my_complex)\n",
    "\n",
    "# String\n",
    "my_string = \"Hello, Jupyter!\"\n",
    "print(\"String:\", my_string)\n",
    "\n",
    "# Boolean\n",
    "my_bool = True\n",
    "print(\"Boolean:\", my_bool)\n"
   ]
  },
  {
   "cell_type": "markdown",
   "id": "8c99dfd5-12c9-47c3-aee3-6ed25a553e86",
   "metadata": {},
   "source": [
    "## 2. Data Structures Examples"
   ]
  },
  {
   "cell_type": "code",
   "execution_count": 5,
   "id": "7fea8848-ff09-44ae-9109-8f4be49b8037",
   "metadata": {},
   "outputs": [
    {
     "name": "stdout",
     "output_type": "stream",
     "text": [
      "List: [1, 2, 3, 4, 5]\n",
      "Tuple: (10, 20, 30)\n",
      "Set: {1, 2, 3, 4}\n",
      "Dictionary: {'name': 'Alice', 'age': 25, 'city': 'New York'}\n"
     ]
    }
   ],
   "source": [
    "# 2. Data Structures Examples\n",
    "\n",
    "# List\n",
    "my_list = [1, 2, 3, 4, 5]\n",
    "print(\"List:\", my_list)\n",
    "\n",
    "# Tuple\n",
    "my_tuple = (10, 20, 30)\n",
    "print(\"Tuple:\", my_tuple)\n",
    "\n",
    "# Set\n",
    "my_set = {1, 2, 3, 3, 4}\n",
    "print(\"Set:\", my_set)\n",
    "\n",
    "# Dictionary\n",
    "my_dict = {\"name\": \"Alice\", \"age\": 25, \"city\": \"New York\"}\n",
    "print(\"Dictionary:\", my_dict)"
   ]
  },
  {
   "cell_type": "code",
   "execution_count": null,
   "id": "3a173073-1c01-4a14-bd70-31e1319c93db",
   "metadata": {},
   "outputs": [],
   "source": []
  }
 ],
 "metadata": {
  "kernelspec": {
   "display_name": "Python 3 (ipykernel)",
   "language": "python",
   "name": "python3"
  },
  "language_info": {
   "codemirror_mode": {
    "name": "ipython",
    "version": 3
   },
   "file_extension": ".py",
   "mimetype": "text/x-python",
   "name": "python",
   "nbconvert_exporter": "python",
   "pygments_lexer": "ipython3",
   "version": "3.13.5"
  }
 },
 "nbformat": 4,
 "nbformat_minor": 5
}
